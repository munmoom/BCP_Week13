{
  "nbformat": 4,
  "nbformat_minor": 0,
  "metadata": {
    "colab": {
      "name": "Untitled64.ipynb",
      "provenance": [],
      "authorship_tag": "ABX9TyNH0yKPsXRsBeQWfK8LKB0k",
      "include_colab_link": true
    },
    "kernelspec": {
      "name": "python3",
      "display_name": "Python 3"
    },
    "language_info": {
      "name": "python"
    }
  },
  "cells": [
    {
      "cell_type": "markdown",
      "metadata": {
        "id": "view-in-github",
        "colab_type": "text"
      },
      "source": [
        "<a href=\"https://colab.research.google.com/github/munmoom/BCP_Week13/blob/main/Untitled64.ipynb\" target=\"_parent\"><img src=\"https://colab.research.google.com/assets/colab-badge.svg\" alt=\"Open In Colab\"/></a>"
      ]
    },
    {
      "cell_type": "code",
      "execution_count": null,
      "metadata": {
        "id": "edpd5yRJTThv"
      },
      "outputs": [],
      "source": [
        "def di(N):\n",
        "  L=divmod(N, 10)\n",
        "  li=[]\n",
        "  li.append(L[1])\n",
        "  if L[0]>10:\n",
        "    di(L[0])\n",
        "  else:\n",
        "    li.append(L[0])\n",
        "    if sum(li)>10:\n",
        "      di(sum(li))\n",
        "    else:\n",
        "      return(sum(li))\n",
        "\n",
        "while 1:\n",
        "  N=int(input())\n",
        "  if N==0:\n",
        "    break\n",
        "  print(di(N))"
      ]
    }
  ]
}