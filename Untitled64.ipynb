{
  "nbformat": 4,
  "nbformat_minor": 0,
  "metadata": {
    "colab": {
      "name": "Untitled64.ipynb",
      "provenance": [],
      "authorship_tag": "ABX9TyP6o6UPIIVDT7oEhB44Eaot",
      "include_colab_link": true
    },
    "kernelspec": {
      "name": "python3",
      "display_name": "Python 3"
    },
    "language_info": {
      "name": "python"
    }
  },
  "cells": [
    {
      "cell_type": "markdown",
      "metadata": {
        "id": "view-in-github",
        "colab_type": "text"
      },
      "source": [
        "<a href=\"https://colab.research.google.com/github/munmoom/BCP_Week13/blob/main/Untitled64.ipynb\" target=\"_parent\"><img src=\"https://colab.research.google.com/assets/colab-badge.svg\" alt=\"Open In Colab\"/></a>"
      ]
    },
    {
      "cell_type": "code",
      "execution_count": null,
      "metadata": {
        "id": "edpd5yRJTThv"
      },
      "outputs": [],
      "source": [
        "def di(N):\n",
        "  L=divmod(N, 10)\n",
        "  li=[]\n",
        "  li.append(L[1])\n",
        "  if L[0]>10:\n",
        "    di(L[0])\n",
        "  else:\n",
        "    li.append(L[0])\n",
        "    if sum(li)>10:\n",
        "      di(sum(li))\n",
        "    else:\n",
        "      return(sum(li))\n",
        "\n",
        "while 1:\n",
        "  N=int(input())\n",
        "  if N==0:\n",
        "    break\n",
        "  print(di(N))"
      ]
    },
    {
      "cell_type": "code",
      "source": [
        "def di(A):\n",
        "  D=divmod(A,10)\n",
        "  D=sum(D)\n",
        "  if D>10:\n",
        "    di(D)\n",
        "  else:\n",
        "    print(D)\n",
        "\n",
        "while 1:\n",
        "  N=int(input())\n",
        "  if N==0:\n",
        "    break\n",
        "  di(N)"
      ],
      "metadata": {
        "id": "FimwNh_6FfHC",
        "outputId": "e92be863-1034-4403-a32f-cb29889ec429",
        "colab": {
          "base_uri": "https://localhost:8080/"
        }
      },
      "execution_count": 1,
      "outputs": [
        {
          "name": "stdout",
          "output_type": "stream",
          "text": [
            "24\n",
            "6\n",
            "39\n",
            "3\n",
            "0\n"
          ]
        }
      ]
    }
  ]
}