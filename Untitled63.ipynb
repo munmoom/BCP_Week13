{
  "nbformat": 4,
  "nbformat_minor": 0,
  "metadata": {
    "colab": {
      "name": "Untitled63.ipynb",
      "provenance": [],
      "authorship_tag": "ABX9TyPkpPnVw6XWsLMos9Tf/apW",
      "include_colab_link": true
    },
    "kernelspec": {
      "name": "python3",
      "display_name": "Python 3"
    },
    "language_info": {
      "name": "python"
    }
  },
  "cells": [
    {
      "cell_type": "markdown",
      "metadata": {
        "id": "view-in-github",
        "colab_type": "text"
      },
      "source": [
        "<a href=\"https://colab.research.google.com/github/munmoom/BCP_Week13/blob/main/Untitled63.ipynb\" target=\"_parent\"><img src=\"https://colab.research.google.com/assets/colab-badge.svg\" alt=\"Open In Colab\"/></a>"
      ]
    },
    {
      "cell_type": "code",
      "execution_count": null,
      "metadata": {
        "id": "9B-nr1fbD5DF"
      },
      "outputs": [],
      "source": [
        "def liting(A):\n",
        "  L=[]\n",
        "  while True:\n",
        "    n = A//10\n",
        "    f = A%10\n",
        "    L.append(f)\n",
        "    A=n\n",
        "    if n==0:\n",
        "        break\n",
        "  K = sum(L)    \n",
        "  return(K)\n",
        "\n",
        "\n",
        "\n",
        "while True:\n",
        "  N=int(input())\n",
        "  if N==0:\n",
        "    break\n",
        "  sum = liting(N)\n",
        "  while sum > 10:\n",
        "    sum = liting(sum)\n",
        "\n",
        "  print(sum)"
      ]
    }
  ]
}